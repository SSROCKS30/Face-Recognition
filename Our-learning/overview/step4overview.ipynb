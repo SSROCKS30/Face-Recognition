{
 "cells": [
  {
   "cell_type": "code",
   "execution_count": null,
   "metadata": {},
   "outputs": [],
   "source": [
    "# Define a function to update attendance in the Excel sheet\n",
    "def update_attendance(recognized_students):\n",
    "    # Load the existing attendance data from the Excel sheet\n",
    "    df = pd.read_excel(\"attendance.xlsx\")\n",
    "    \n",
    "    # Get the current date (for demonstration, using a static date)\n",
    "    current_date = \"2023-08-13\"\n",
    "    \n",
    "    # Update the attendance for recognized_students\n",
    "    for student in recognized_students:\n",
    "        # Check if the student is already in the DataFrame\n",
    "        if student in df[\"Student Name\"].values:\n",
    "            # Update proxy for the student on the current date\n",
    "            df.loc[df[\"Student Name\"] == student, current_date] = \"Proxy\"\n",
    "        else:\n",
    "            # Add a new row for the student if not already present\n",
    "            new_row = {\"Student Name\": student, current_date: \"Proxy\"}\n",
    "            df = df.append(new_row, ignore_index=True)\n",
    "    \n",
    "    # Save the updated DataFrame back to the Excel sheet\n",
    "    df.to_excel(\"attendance.xlsx\", index=False)"
   ]
  }
 ],
 "metadata": {
  "language_info": {
   "name": "python"
  },
  "orig_nbformat": 4
 },
 "nbformat": 4,
 "nbformat_minor": 2
}
