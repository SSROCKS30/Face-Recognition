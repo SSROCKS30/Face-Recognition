{
 "cells": [
  {
   "cell_type": "code",
   "execution_count": 6,
   "id": "dbb5ef28-309c-4447-8dbc-bd5eb2300fab",
   "metadata": {},
   "outputs": [],
   "source": [
    "# Import necessary libraries\n",
    "\n",
    "!pip install ultralytics -q\n",
    "# !pip install gradio -q\n",
    "# !pip install pandas -q\n",
    "!pip install deepface -q"
   ]
  },
  {
   "cell_type": "code",
   "execution_count": 7,
   "id": "67268226-bac1-464c-87e2-c5e1fda044e9",
   "metadata": {},
   "outputs": [
    {
     "name": "stdout",
     "output_type": "stream",
     "text": [
      "WARNING:tensorflow:From D:\\My\\venv\\Lib\\site-packages\\keras\\src\\losses.py:2976: The name tf.losses.sparse_softmax_cross_entropy is deprecated. Please use tf.compat.v1.losses.sparse_softmax_cross_entropy instead.\n",
      "\n"
     ]
    }
   ],
   "source": [
    "# Import necessary libraries\n",
    "from ultralytics import YOLO\n",
    "from ultralytics.engine.results import Results  \n",
    "from deepface import DeepFace\n",
    "from PIL import Image\n",
    "# import gradio as gr\n",
    "import shutil\n",
    "import pandas\n",
    "import cv2\n",
    "import os"
   ]
  },
  {
   "cell_type": "code",
   "execution_count": 8,
   "id": "e2c62a9d-8112-49b7-9b8d-43f9e10673c2",
   "metadata": {},
   "outputs": [],
   "source": [
    "def faceRecognition(input_image):\n",
    "\n",
    "    # Path to the directory containing cropped objects\n",
    "    cropped_objects_dir = \"./faces/\"\n",
    "\n",
    "    # Initialize a list to store the extracted names\n",
    "    extracted_names = []\n",
    "    \n",
    "    #NO need to run this When database is fixed\n",
    "    # file_to_delete = \"./database/representations_facenet512.pkl\"\n",
    "    # if os.path.exists(file_to_delete):\n",
    "    #     os.remove(file_to_delete)    \n",
    "\n",
    "    # Iterate through the image files in the directory\n",
    "    for filename in os.listdir(cropped_objects_dir):\n",
    "        if filename.endswith(\".jpg\"):\n",
    "            img_path = os.path.join(cropped_objects_dir, filename)\n",
    "            model = DeepFace.find(img_path=img_path, db_path=\"database\", enforce_detection=False, model_name=\"Facenet512\")\n",
    "\n",
    "            # Check if a face was recognized in the image\n",
    "            if model and len(model[0]['identity']) > 0:\n",
    "                # Extract the name and append it to the list\n",
    "                name = model[0]['identity'][0].split('/')[1]\n",
    "            else:\n",
    "                # If no face is recognized, set name to 'unknown'\n",
    "                name = 'unknown'\n",
    "\n",
    "            extracted_names.append(name)\n",
    "\n",
    "    return extracted_names"
   ]
  },
  {
   "cell_type": "code",
   "execution_count": 9,
   "id": "f61dff16-32e7-42fc-b312-4d5cb175628d",
   "metadata": {},
   "outputs": [],
   "source": [
    "def faceExtraction(input_image, model, results):\n",
    "    # Load the image\n",
    "    image = Image.open(input_image)\n",
    "    detected_objects = []\n",
    "\n",
    "    if hasattr(results, 'boxes') and hasattr(results, 'names'):\n",
    "        for box in results.boxes.xyxy:\n",
    "            object_id = int(box[-1])\n",
    "            object_name = results.names.get(object_id)\n",
    "            x1, y1, x2, y2 = int(box[0]), int(box[1]), int(box[2]), int(box[3])\n",
    "\n",
    "            detected_objects.append((object_name, (x1, y1, x2, y2)))\n",
    "\n",
    "    # Create or clear the 'faces' directory\n",
    "    if os.path.exists(\"faces\"):\n",
    "        shutil.rmtree(\"faces\")\n",
    "    os.makedirs(\"faces\")\n",
    "\n",
    "    # Crop and save each detected object\n",
    "    for i, (object_name, (x1, y1, x2, y2)) in enumerate(detected_objects):\n",
    "        object_image = image.crop((x1, y1, x2, y2))\n",
    "        object_image.save(f\"faces/face{i}.jpg\")\n",
    "        \n",
    "    return 0"
   ]
  },
  {
   "cell_type": "code",
   "execution_count": 10,
   "id": "05b301be-5c7c-46d8-b23e-0c7686cf9e17",
   "metadata": {},
   "outputs": [],
   "source": [
    "def faceDetection(input_image):\n",
    "    model = YOLO('best.pt')\n",
    "    results: Results = model.predict(input_image)[0]\n",
    "\n",
    "    return faceExtraction(input_image, model, results)"
   ]
  },
  {
   "cell_type": "code",
   "execution_count": 11,
   "id": "062e3b20-c871-4df7-a539-6248c405fc79",
   "metadata": {},
   "outputs": [
    {
     "name": "stdin",
     "output_type": "stream",
     "text": [
      "enter image path :  World-Leaders.jpg\n"
     ]
    },
    {
     "name": "stdout",
     "output_type": "stream",
     "text": [
      "\n",
      "image 1/1 D:\\My\\World-Leaders.jpg: 384x640 5 faces, 105.0ms\n",
      "Speed: 3.0ms preprocess, 105.0ms inference, 2.0ms postprocess per image at shape (1, 3, 384, 640)\n"
     ]
    },
    {
     "name": "stderr",
     "output_type": "stream",
     "text": [
      "Finding representations: 100%|█████████████████████████████████████████████████████████| 20/20 [00:33<00:00,  1.66s/it]\n"
     ]
    },
    {
     "name": "stdout",
     "output_type": "stream",
     "text": [
      "23-12-25 19:36:34 - Representations stored in database/representations_facenet512.pkl file.Please delete this file when you add new identities in your database.\n",
      "23-12-25 19:36:34 - find function lasts 33.70693802833557 seconds\n",
      "23-12-25 19:36:34 - ⚠️ Representations for images in database folder were previously stored in representations_facenet512.pkl. If you added new instances after the creation, then please delete this file and call find function again. It will create it again.\n",
      "23-12-25 19:36:34 - There are 20 representations found in representations_facenet512.pkl\n",
      "23-12-25 19:36:35 - find function lasts 0.6045479774475098 seconds\n",
      "23-12-25 19:36:35 - ⚠️ Representations for images in database folder were previously stored in representations_facenet512.pkl. If you added new instances after the creation, then please delete this file and call find function again. It will create it again.\n",
      "23-12-25 19:36:35 - There are 20 representations found in representations_facenet512.pkl\n",
      "23-12-25 19:36:35 - find function lasts 0.5598437786102295 seconds\n",
      "23-12-25 19:36:35 - ⚠️ Representations for images in database folder were previously stored in representations_facenet512.pkl. If you added new instances after the creation, then please delete this file and call find function again. It will create it again.\n",
      "23-12-25 19:36:35 - There are 20 representations found in representations_facenet512.pkl\n",
      "23-12-25 19:36:36 - find function lasts 0.5277736186981201 seconds\n",
      "23-12-25 19:36:36 - ⚠️ Representations for images in database folder were previously stored in representations_facenet512.pkl. If you added new instances after the creation, then please delete this file and call find function again. It will create it again.\n",
      "23-12-25 19:36:36 - There are 20 representations found in representations_facenet512.pkl\n",
      "23-12-25 19:36:36 - find function lasts 0.5438945293426514 seconds\n",
      "['Cyril_Ramaphosa01.jpg', 'Lula_da_Silva01.jpg', 'Ajay_Banga03.jpg', 'Joe_Biden02.jpg', 'Narendra_Modi01.jpg']\n"
     ]
    }
   ],
   "source": [
    "image = input(\"enter image path : \")\n",
    "faceDetection(image)\n",
    "names = faceRecognition(image)\n",
    "print(names)"
   ]
  },
  {
   "cell_type": "code",
   "execution_count": null,
   "id": "48ca3016-63b6-41d1-84ea-984edc581607",
   "metadata": {},
   "outputs": [],
   "source": []
  }
 ],
 "metadata": {
  "kernelspec": {
   "display_name": "Python 3 (ipykernel)",
   "language": "python",
   "name": "python3"
  },
  "language_info": {
   "codemirror_mode": {
    "name": "ipython",
    "version": 3
   },
   "file_extension": ".py",
   "mimetype": "text/x-python",
   "name": "python",
   "nbconvert_exporter": "python",
   "pygments_lexer": "ipython3",
   "version": "3.11.6"
  }
 },
 "nbformat": 4,
 "nbformat_minor": 5
}
