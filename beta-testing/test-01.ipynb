{
 "cells": [
  {
   "cell_type": "code",
   "execution_count": 1,
   "id": "dbb5ef28-309c-4447-8dbc-bd5eb2300fab",
   "metadata": {},
   "outputs": [],
   "source": [
    "# Import necessary libraries\n",
    "\n",
    "!pip install ultralytics -q\n",
    "# !pip install gradio -q\n",
    "# !pip install pandas -q\n",
    "!pip install deepface -q"
   ]
  },
  {
   "cell_type": "code",
   "execution_count": 2,
   "id": "67268226-bac1-464c-87e2-c5e1fda044e9",
   "metadata": {},
   "outputs": [
    {
     "name": "stdout",
     "output_type": "stream",
     "text": [
      "WARNING:tensorflow:From E:\\Projects\\Face-Recognition\\myenv\\Lib\\site-packages\\tf_keras\\src\\losses.py:2976: The name tf.losses.sparse_softmax_cross_entropy is deprecated. Please use tf.compat.v1.losses.sparse_softmax_cross_entropy instead.\n",
      "\n"
     ]
    }
   ],
   "source": [
    "# Import necessary libraries\n",
    "from ultralytics import YOLO\n",
    "from ultralytics.engine.results import Results  \n",
    "from deepface import DeepFace\n",
    "from PIL import Image\n",
    "# import gradio as gr\n",
    "import shutil\n",
    "import pandas\n",
    "import cv2\n",
    "import os"
   ]
  },
  {
   "cell_type": "code",
   "execution_count": 3,
   "id": "e2c62a9d-8112-49b7-9b8d-43f9e10673c2",
   "metadata": {},
   "outputs": [],
   "source": [
    "def faceRecognition(input_image):\n",
    "    # Path to the directory containing cropped objects\n",
    "    cropped_objects_dir = \"./faces/\"\n",
    "    \n",
    "    # Path to the directory to save unknown faces\n",
    "    unknown_faces_dir = \"./unknown/\"\n",
    "    \n",
    "    # Path to the directory to save known faces\n",
    "    known_faces_dir = \"./known/\"\n",
    "    \n",
    "    # Initialize a list to store the extracted names\n",
    "    extracted_names = []\n",
    "    \n",
    "    # Check if the 'unknown' folder exists, otherwise create it\n",
    "    if not os.path.exists(unknown_faces_dir):\n",
    "        os.makedirs(unknown_faces_dir)\n",
    "    else:\n",
    "        # If the 'unknown' folder exists, clear all files and subfolders\n",
    "        for file_or_folder in os.listdir(unknown_faces_dir):\n",
    "            file_or_folder_path = os.path.join(unknown_faces_dir, file_or_folder)\n",
    "            if os.path.isfile(file_or_folder_path):\n",
    "                os.remove(file_or_folder_path)\n",
    "            elif os.path.isdir(file_or_folder_path):\n",
    "                shutil.rmtree(file_or_folder_path)\n",
    "\n",
    "    # Check if the 'known' folder exists, otherwise create it\n",
    "    if not os.path.exists(known_faces_dir):\n",
    "        os.makedirs(known_faces_dir)\n",
    "    else:\n",
    "        # If the 'known' folder exists, clear all files and subfolders\n",
    "        for file_or_folder in os.listdir(known_faces_dir):\n",
    "            file_or_folder_path = os.path.join(known_faces_dir, file_or_folder)\n",
    "            if os.path.isfile(file_or_folder_path):\n",
    "                os.remove(file_or_folder_path)\n",
    "            elif os.path.isdir(file_or_folder_path):\n",
    "                shutil.rmtree(file_or_folder_path)\n",
    "\n",
    "    # Iterate through the image files in the directory\n",
    "    for filename in os.listdir(cropped_objects_dir):\n",
    "        if filename.endswith(\".jpg\"):\n",
    "            img_path = os.path.join(cropped_objects_dir, filename)\n",
    "            model = DeepFace.find(img_path=img_path, db_path=\"database\", enforce_detection=False, model_name=\"Facenet512\")\n",
    "\n",
    "            # Check if a face was recognized in the image\n",
    "            if model and len(model[0]['identity']) > 0:\n",
    "                # Extract the name and append it to the list\n",
    "                identity_path = model[0]['identity'][0]\n",
    "                # Replace backslashes with forward slashes for cross-platform compatibility\n",
    "                name = identity_path.replace('\\\\', '/').split('/')[1]\n",
    "                \n",
    "                # Save the known face into the 'known' folder\n",
    "                known_faces_path = os.path.join(known_faces_dir, f\"{len(extracted_names) + 1}_{name}.jpg\")\n",
    "                shutil.copy(img_path, known_faces_path)\n",
    "                \n",
    "            else:\n",
    "                # If no face is recognized, set name to 'unknown'\n",
    "                name = 'unknown'\n",
    "                \n",
    "                # Save the unknown face into the 'unknown' folder\n",
    "                unknown_faces_path = os.path.join(unknown_faces_dir, f\"{len(extracted_names) + 1}.jpg\")\n",
    "                shutil.copy(img_path, unknown_faces_path)\n",
    "                \n",
    "            extracted_names.append(name)\n",
    "            \n",
    "    return extracted_names"
   ]
  },
  {
   "cell_type": "code",
   "execution_count": 4,
   "id": "f61dff16-32e7-42fc-b312-4d5cb175628d",
   "metadata": {},
   "outputs": [],
   "source": [
    "def faceExtraction(input_image, model, results):\n",
    "    # Load the image\n",
    "    image = Image.open(input_image)\n",
    "    detected_objects = []\n",
    "\n",
    "    if hasattr(results, 'boxes') and hasattr(results, 'names'):\n",
    "        for box in results.boxes.xyxy:\n",
    "            object_id = int(box[-1])\n",
    "            object_name = results.names.get(object_id)\n",
    "            x1, y1, x2, y2 = int(box[0]), int(box[1]), int(box[2]), int(box[3])\n",
    "\n",
    "            detected_objects.append((object_name, (x1, y1, x2, y2)))\n",
    "\n",
    "    # Create or clear the 'faces' directory\n",
    "    if os.path.exists(\"faces\"):\n",
    "        shutil.rmtree(\"faces\")\n",
    "    os.makedirs(\"faces\")\n",
    "\n",
    "    # Crop and save each detected object\n",
    "    for i, (object_name, (x1, y1, x2, y2)) in enumerate(detected_objects):\n",
    "        object_image = image.crop((x1, y1, x2, y2))\n",
    "        object_image.save(f\"faces/face{i}.jpg\")\n",
    "        \n",
    "    return 0"
   ]
  },
  {
   "cell_type": "code",
   "execution_count": 5,
   "id": "05b301be-5c7c-46d8-b23e-0c7686cf9e17",
   "metadata": {},
   "outputs": [],
   "source": [
    "def faceDetection(input_image):\n",
    "    model = YOLO('best.pt')\n",
    "    results: Results = model.predict(input_image)[0]\n",
    "\n",
    "    return faceExtraction(input_image, model, results)"
   ]
  },
  {
   "cell_type": "code",
   "execution_count": 6,
   "id": "062e3b20-c871-4df7-a539-6248c405fc79",
   "metadata": {
    "scrolled": true
   },
   "outputs": [
    {
     "name": "stdin",
     "output_type": "stream",
     "text": [
      "enter image path :  World-Leaders.jpg\n"
     ]
    },
    {
     "name": "stdout",
     "output_type": "stream",
     "text": [
      "WARNING best.pt appears to require 'omegaconf', which is not in Ultralytics requirements.\n",
      "AutoInstall will run now for 'omegaconf' but this feature will be removed in the future.\n",
      "Recommend fixes are to train a new model using the latest 'ultralytics' package or to run a command with an official Ultralytics model, i.e. 'yolo predict model=yolo11n.pt'\n",
      "\u001b[31m\u001b[1mrequirements:\u001b[0m Ultralytics requirement ['omegaconf'] not found, attempting AutoUpdate...\n",
      "Collecting omegaconf\n",
      "  Downloading omegaconf-2.3.0-py3-none-any.whl.metadata (3.9 kB)\n",
      "Collecting antlr4-python3-runtime==4.9.* (from omegaconf)\n",
      "  Downloading antlr4-python3-runtime-4.9.3.tar.gz (117 kB)\n",
      "  Preparing metadata (setup.py): started\n",
      "  Preparing metadata (setup.py): finished with status 'done'\n",
      "Requirement already satisfied: PyYAML>=5.1.0 in e:\\projects\\face-recognition\\myenv\\lib\\site-packages (from omegaconf) (6.0.2)\n",
      "Downloading omegaconf-2.3.0-py3-none-any.whl (79 kB)\n",
      "Building wheels for collected packages: antlr4-python3-runtime\n",
      "  Building wheel for antlr4-python3-runtime (setup.py): started\n",
      "  Building wheel for antlr4-python3-runtime (setup.py): finished with status 'done'\n",
      "  Created wheel for antlr4-python3-runtime: filename=antlr4_python3_runtime-4.9.3-py3-none-any.whl size=144614 sha256=7707ec8c06f730f8ab539d524a4c67340c9be667a9b858840adf9127898f49a7\n",
      "  Stored in directory: C:\\Users\\SSROCKS\\AppData\\Local\\Temp\\pip-ephem-wheel-cache-ihmyx7lz\\wheels\\1f\\be\\48\\13754633f1d08d1fbfc60d5e80ae1e5d7329500477685286cd\n",
      "Successfully built antlr4-python3-runtime\n",
      "Installing collected packages: antlr4-python3-runtime, omegaconf\n",
      "   ---------------------------------------- 2/2 [omegaconf]\n",
      "Successfully installed antlr4-python3-runtime-4.9.3 omegaconf-2.3.0\n",
      "\n",
      "\u001b[31m\u001b[1mrequirements:\u001b[0m AutoUpdate success  4.4s\n",
      "WARNING \u001b[31m\u001b[1mrequirements:\u001b[0m \u001b[1mRestart runtime or rerun command for updates to take effect\u001b[0m\n",
      "\n",
      "\n",
      "image 1/1 E:\\Projects\\Face-Recognition\\beta-testing\\World-Leaders.jpg: 384x640 5 faces, 56.2ms\n",
      "Speed: 2.4ms preprocess, 56.2ms inference, 1.9ms postprocess per image at shape (1, 3, 384, 640)\n",
      "25-05-23 13:35:09 - Found 19 newly added image(s), 0 removed image(s), 0 replaced image(s).\n"
     ]
    },
    {
     "name": "stderr",
     "output_type": "stream",
     "text": [
      "Finding representations: 100%|███████████████████████████████████████████████████████████████████████████████████████████████████████████████████████████████████| 19/19 [00:28<00:00,  1.51s/it]\n"
     ]
    },
    {
     "name": "stdout",
     "output_type": "stream",
     "text": [
      "25-05-23 13:35:38 - There are now 19 representations in ds_model_facenet512_detector_opencv_aligned_normalization_base_expand_0.pkl\n",
      "25-05-23 13:35:38 - Searching ./faces/face0.jpg in 19 length datastore\n",
      "25-05-23 13:35:38 - find function duration 28.972068548202515 seconds\n",
      "25-05-23 13:35:38 - Searching ./faces/face1.jpg in 19 length datastore\n",
      "25-05-23 13:35:39 - find function duration 0.18999719619750977 seconds\n",
      "25-05-23 13:35:39 - Searching ./faces/face2.jpg in 19 length datastore\n",
      "25-05-23 13:35:39 - find function duration 0.2025153636932373 seconds\n",
      "25-05-23 13:35:39 - Searching ./faces/face3.jpg in 19 length datastore\n",
      "25-05-23 13:35:39 - find function duration 0.193131685256958 seconds\n",
      "25-05-23 13:35:39 - Searching ./faces/face4.jpg in 19 length datastore\n",
      "25-05-23 13:35:39 - find function duration 0.19100022315979004 seconds\n",
      "['Cyril_Ramaphosa', 'Lula_da_Silva', 'Ajay_Banga', 'Joe_Biden', 'Narendra_Modi']\n"
     ]
    }
   ],
   "source": [
    "image = input(\"enter image path : \")\n",
    "faceDetection(image)\n",
    "names = faceRecognition(image)\n",
    "print(names)"
   ]
  }
 ],
 "metadata": {
  "kernelspec": {
   "display_name": "Python 3 (ipykernel)",
   "language": "python",
   "name": "python3"
  },
  "language_info": {
   "codemirror_mode": {
    "name": "ipython",
    "version": 3
   },
   "file_extension": ".py",
   "mimetype": "text/x-python",
   "name": "python",
   "nbconvert_exporter": "python",
   "pygments_lexer": "ipython3",
   "version": "3.12.5"
  }
 },
 "nbformat": 4,
 "nbformat_minor": 5
}
