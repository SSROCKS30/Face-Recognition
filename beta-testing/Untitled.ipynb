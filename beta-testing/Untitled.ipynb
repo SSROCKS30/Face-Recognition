{
 "cells": [
  {
   "cell_type": "code",
   "execution_count": 1,
   "id": "2a21fa96-bea6-4d61-8c95-01ce19fb3d5c",
   "metadata": {},
   "outputs": [
    {
     "name": "stderr",
     "output_type": "stream",
     "text": [
      "ERROR: Could not find a version that satisfies the requirement ultraulytics (from versions: none)\n",
      "ERROR: No matching distribution found for ultraulytics\n"
     ]
    }
   ],
   "source": [
    "!pip install ultraulytics"
   ]
  },
  {
   "cell_type": "code",
   "execution_count": null,
   "id": "abef014f-55fc-43de-b3b3-79f7b6f1dc6e",
   "metadata": {},
   "outputs": [],
   "source": []
  }
 ],
 "metadata": {
  "kernelspec": {
   "display_name": "Python 3 (ipykernel)",
   "language": "python",
   "name": "python3"
  },
  "language_info": {
   "codemirror_mode": {
    "name": "ipython",
    "version": 3
   },
   "file_extension": ".py",
   "mimetype": "text/x-python",
   "name": "python",
   "nbconvert_exporter": "python",
   "pygments_lexer": "ipython3",
   "version": "3.12.0"
  }
 },
 "nbformat": 4,
 "nbformat_minor": 5
}
