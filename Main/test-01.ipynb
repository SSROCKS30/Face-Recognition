{
 "cells": [
  {
   "cell_type": "code",
   "execution_count": 1,
   "id": "dbb5ef28-309c-4447-8dbc-bd5eb2300fab",
   "metadata": {},
   "outputs": [
    {
     "name": "stdout",
     "output_type": "stream",
     "text": [
      "Requirement already satisfied: ultralytics in /Users/saurabh/Documents/projects/Face-Recognition/venv/lib/python3.10/site-packages (8.0.200)\n",
      "Requirement already satisfied: matplotlib>=3.3.0 in /Users/saurabh/Documents/projects/Face-Recognition/venv/lib/python3.10/site-packages (from ultralytics) (3.8.0)\n",
      "Requirement already satisfied: numpy>=1.22.2 in /Users/saurabh/Documents/projects/Face-Recognition/venv/lib/python3.10/site-packages (from ultralytics) (1.26.1)\n",
      "Requirement already satisfied: opencv-python>=4.6.0 in /Users/saurabh/Documents/projects/Face-Recognition/venv/lib/python3.10/site-packages (from ultralytics) (4.8.1.78)\n",
      "Requirement already satisfied: pillow>=7.1.2 in /Users/saurabh/Documents/projects/Face-Recognition/venv/lib/python3.10/site-packages (from ultralytics) (10.1.0)\n",
      "Requirement already satisfied: pyyaml>=5.3.1 in /Users/saurabh/Documents/projects/Face-Recognition/venv/lib/python3.10/site-packages (from ultralytics) (6.0.1)\n",
      "Requirement already satisfied: requests>=2.23.0 in /Users/saurabh/Documents/projects/Face-Recognition/venv/lib/python3.10/site-packages (from ultralytics) (2.31.0)\n",
      "Requirement already satisfied: scipy>=1.4.1 in /Users/saurabh/Documents/projects/Face-Recognition/venv/lib/python3.10/site-packages (from ultralytics) (1.11.3)\n",
      "Requirement already satisfied: torch>=1.8.0 in /Users/saurabh/Documents/projects/Face-Recognition/venv/lib/python3.10/site-packages (from ultralytics) (2.1.0)\n",
      "Requirement already satisfied: torchvision>=0.9.0 in /Users/saurabh/Documents/projects/Face-Recognition/venv/lib/python3.10/site-packages (from ultralytics) (0.16.0)\n",
      "Requirement already satisfied: tqdm>=4.64.0 in /Users/saurabh/Documents/projects/Face-Recognition/venv/lib/python3.10/site-packages (from ultralytics) (4.66.1)\n",
      "Requirement already satisfied: pandas>=1.1.4 in /Users/saurabh/Documents/projects/Face-Recognition/venv/lib/python3.10/site-packages (from ultralytics) (2.1.1)\n",
      "Requirement already satisfied: seaborn>=0.11.0 in /Users/saurabh/Documents/projects/Face-Recognition/venv/lib/python3.10/site-packages (from ultralytics) (0.13.0)\n",
      "Requirement already satisfied: psutil in /Users/saurabh/Documents/projects/Face-Recognition/venv/lib/python3.10/site-packages (from ultralytics) (5.9.6)\n",
      "Requirement already satisfied: py-cpuinfo in /Users/saurabh/Documents/projects/Face-Recognition/venv/lib/python3.10/site-packages (from ultralytics) (9.0.0)\n",
      "Requirement already satisfied: thop>=0.1.1 in /Users/saurabh/Documents/projects/Face-Recognition/venv/lib/python3.10/site-packages (from ultralytics) (0.1.1.post2209072238)\n",
      "Requirement already satisfied: contourpy>=1.0.1 in /Users/saurabh/Documents/projects/Face-Recognition/venv/lib/python3.10/site-packages (from matplotlib>=3.3.0->ultralytics) (1.1.1)\n",
      "Requirement already satisfied: cycler>=0.10 in /Users/saurabh/Documents/projects/Face-Recognition/venv/lib/python3.10/site-packages (from matplotlib>=3.3.0->ultralytics) (0.12.1)\n",
      "Requirement already satisfied: fonttools>=4.22.0 in /Users/saurabh/Documents/projects/Face-Recognition/venv/lib/python3.10/site-packages (from matplotlib>=3.3.0->ultralytics) (4.43.1)\n",
      "Requirement already satisfied: kiwisolver>=1.0.1 in /Users/saurabh/Documents/projects/Face-Recognition/venv/lib/python3.10/site-packages (from matplotlib>=3.3.0->ultralytics) (1.4.5)\n",
      "Requirement already satisfied: packaging>=20.0 in /Users/saurabh/Documents/projects/Face-Recognition/venv/lib/python3.10/site-packages (from matplotlib>=3.3.0->ultralytics) (23.2)\n",
      "Requirement already satisfied: pyparsing>=2.3.1 in /Users/saurabh/Documents/projects/Face-Recognition/venv/lib/python3.10/site-packages (from matplotlib>=3.3.0->ultralytics) (3.1.1)\n",
      "Requirement already satisfied: python-dateutil>=2.7 in /Users/saurabh/Documents/projects/Face-Recognition/venv/lib/python3.10/site-packages (from matplotlib>=3.3.0->ultralytics) (2.8.2)\n",
      "Requirement already satisfied: pytz>=2020.1 in /Users/saurabh/Documents/projects/Face-Recognition/venv/lib/python3.10/site-packages (from pandas>=1.1.4->ultralytics) (2023.3.post1)\n",
      "Requirement already satisfied: tzdata>=2022.1 in /Users/saurabh/Documents/projects/Face-Recognition/venv/lib/python3.10/site-packages (from pandas>=1.1.4->ultralytics) (2023.3)\n",
      "Requirement already satisfied: charset-normalizer<4,>=2 in /Users/saurabh/Documents/projects/Face-Recognition/venv/lib/python3.10/site-packages (from requests>=2.23.0->ultralytics) (3.3.0)\n",
      "Requirement already satisfied: idna<4,>=2.5 in /Users/saurabh/Documents/projects/Face-Recognition/venv/lib/python3.10/site-packages (from requests>=2.23.0->ultralytics) (3.4)\n",
      "Requirement already satisfied: urllib3<3,>=1.21.1 in /Users/saurabh/Documents/projects/Face-Recognition/venv/lib/python3.10/site-packages (from requests>=2.23.0->ultralytics) (2.0.7)\n",
      "Requirement already satisfied: certifi>=2017.4.17 in /Users/saurabh/Documents/projects/Face-Recognition/venv/lib/python3.10/site-packages (from requests>=2.23.0->ultralytics) (2023.7.22)\n",
      "Requirement already satisfied: filelock in /Users/saurabh/Documents/projects/Face-Recognition/venv/lib/python3.10/site-packages (from torch>=1.8.0->ultralytics) (3.12.4)\n",
      "Requirement already satisfied: typing-extensions in /Users/saurabh/Documents/projects/Face-Recognition/venv/lib/python3.10/site-packages (from torch>=1.8.0->ultralytics) (4.8.0)\n",
      "Requirement already satisfied: sympy in /Users/saurabh/Documents/projects/Face-Recognition/venv/lib/python3.10/site-packages (from torch>=1.8.0->ultralytics) (1.12)\n",
      "Requirement already satisfied: networkx in /Users/saurabh/Documents/projects/Face-Recognition/venv/lib/python3.10/site-packages (from torch>=1.8.0->ultralytics) (3.2)\n",
      "Requirement already satisfied: jinja2 in /Users/saurabh/Documents/projects/Face-Recognition/venv/lib/python3.10/site-packages (from torch>=1.8.0->ultralytics) (3.1.2)\n",
      "Requirement already satisfied: fsspec in /Users/saurabh/Documents/projects/Face-Recognition/venv/lib/python3.10/site-packages (from torch>=1.8.0->ultralytics) (2023.9.2)\n",
      "Requirement already satisfied: six>=1.5 in /Users/saurabh/Documents/projects/Face-Recognition/venv/lib/python3.10/site-packages (from python-dateutil>=2.7->matplotlib>=3.3.0->ultralytics) (1.16.0)\n",
      "Requirement already satisfied: MarkupSafe>=2.0 in /Users/saurabh/Documents/projects/Face-Recognition/venv/lib/python3.10/site-packages (from jinja2->torch>=1.8.0->ultralytics) (2.1.3)\n",
      "Requirement already satisfied: mpmath>=0.19 in /Users/saurabh/Documents/projects/Face-Recognition/venv/lib/python3.10/site-packages (from sympy->torch>=1.8.0->ultralytics) (1.3.0)\n",
      "\n",
      "\u001b[1m[\u001b[0m\u001b[34;49mnotice\u001b[0m\u001b[1;39;49m]\u001b[0m\u001b[39;49m A new release of pip is available: \u001b[0m\u001b[31;49m23.2.1\u001b[0m\u001b[39;49m -> \u001b[0m\u001b[32;49m23.3\u001b[0m\n",
      "\u001b[1m[\u001b[0m\u001b[34;49mnotice\u001b[0m\u001b[1;39;49m]\u001b[0m\u001b[39;49m To update, run: \u001b[0m\u001b[32;49mpip install --upgrade pip\u001b[0m\n",
      "Requirement already satisfied: gradio in /Users/saurabh/Documents/projects/Face-Recognition/venv/lib/python3.10/site-packages (3.50.0)\n",
      "Requirement already satisfied: aiofiles<24.0,>=22.0 in /Users/saurabh/Documents/projects/Face-Recognition/venv/lib/python3.10/site-packages (from gradio) (23.2.1)\n",
      "Requirement already satisfied: altair<6.0,>=4.2.0 in /Users/saurabh/Documents/projects/Face-Recognition/venv/lib/python3.10/site-packages (from gradio) (5.1.2)\n",
      "Requirement already satisfied: fastapi in /Users/saurabh/Documents/projects/Face-Recognition/venv/lib/python3.10/site-packages (from gradio) (0.104.0)\n",
      "Requirement already satisfied: ffmpy in /Users/saurabh/Documents/projects/Face-Recognition/venv/lib/python3.10/site-packages (from gradio) (0.3.1)\n",
      "Requirement already satisfied: gradio-client==0.6.1 in /Users/saurabh/Documents/projects/Face-Recognition/venv/lib/python3.10/site-packages (from gradio) (0.6.1)\n",
      "Requirement already satisfied: httpx in /Users/saurabh/Documents/projects/Face-Recognition/venv/lib/python3.10/site-packages (from gradio) (0.25.0)\n",
      "Requirement already satisfied: huggingface-hub>=0.14.0 in /Users/saurabh/Documents/projects/Face-Recognition/venv/lib/python3.10/site-packages (from gradio) (0.18.0)\n",
      "Requirement already satisfied: importlib-resources<7.0,>=1.3 in /Users/saurabh/Documents/projects/Face-Recognition/venv/lib/python3.10/site-packages (from gradio) (6.1.0)\n",
      "Requirement already satisfied: jinja2<4.0 in /Users/saurabh/Documents/projects/Face-Recognition/venv/lib/python3.10/site-packages (from gradio) (3.1.2)\n",
      "Requirement already satisfied: markupsafe~=2.0 in /Users/saurabh/Documents/projects/Face-Recognition/venv/lib/python3.10/site-packages (from gradio) (2.1.3)\n",
      "Requirement already satisfied: matplotlib~=3.0 in /Users/saurabh/Documents/projects/Face-Recognition/venv/lib/python3.10/site-packages (from gradio) (3.8.0)\n",
      "Requirement already satisfied: numpy~=1.0 in /Users/saurabh/Documents/projects/Face-Recognition/venv/lib/python3.10/site-packages (from gradio) (1.26.1)\n",
      "Requirement already satisfied: orjson~=3.0 in /Users/saurabh/Documents/projects/Face-Recognition/venv/lib/python3.10/site-packages (from gradio) (3.9.9)\n",
      "Requirement already satisfied: packaging in /Users/saurabh/Documents/projects/Face-Recognition/venv/lib/python3.10/site-packages (from gradio) (23.2)\n",
      "Requirement already satisfied: pandas<3.0,>=1.0 in /Users/saurabh/Documents/projects/Face-Recognition/venv/lib/python3.10/site-packages (from gradio) (2.1.1)\n",
      "Requirement already satisfied: pillow<11.0,>=8.0 in /Users/saurabh/Documents/projects/Face-Recognition/venv/lib/python3.10/site-packages (from gradio) (10.1.0)\n",
      "Requirement already satisfied: pydantic!=1.8,!=1.8.1,!=2.0.0,!=2.0.1,<3.0.0,>=1.7.4 in /Users/saurabh/Documents/projects/Face-Recognition/venv/lib/python3.10/site-packages (from gradio) (2.4.2)\n",
      "Requirement already satisfied: pydub in /Users/saurabh/Documents/projects/Face-Recognition/venv/lib/python3.10/site-packages (from gradio) (0.25.1)\n",
      "Requirement already satisfied: python-multipart in /Users/saurabh/Documents/projects/Face-Recognition/venv/lib/python3.10/site-packages (from gradio) (0.0.6)\n",
      "Requirement already satisfied: pyyaml<7.0,>=5.0 in /Users/saurabh/Documents/projects/Face-Recognition/venv/lib/python3.10/site-packages (from gradio) (6.0.1)\n",
      "Requirement already satisfied: requests~=2.0 in /Users/saurabh/Documents/projects/Face-Recognition/venv/lib/python3.10/site-packages (from gradio) (2.31.0)\n",
      "Requirement already satisfied: semantic-version~=2.0 in /Users/saurabh/Documents/projects/Face-Recognition/venv/lib/python3.10/site-packages (from gradio) (2.10.0)\n",
      "Requirement already satisfied: typing-extensions~=4.0 in /Users/saurabh/Documents/projects/Face-Recognition/venv/lib/python3.10/site-packages (from gradio) (4.8.0)\n",
      "Requirement already satisfied: uvicorn>=0.14.0 in /Users/saurabh/Documents/projects/Face-Recognition/venv/lib/python3.10/site-packages (from gradio) (0.23.2)\n",
      "Requirement already satisfied: websockets<12.0,>=10.0 in /Users/saurabh/Documents/projects/Face-Recognition/venv/lib/python3.10/site-packages (from gradio) (11.0.3)\n",
      "Requirement already satisfied: fsspec in /Users/saurabh/Documents/projects/Face-Recognition/venv/lib/python3.10/site-packages (from gradio-client==0.6.1->gradio) (2023.9.2)\n",
      "Requirement already satisfied: jsonschema>=3.0 in /Users/saurabh/Documents/projects/Face-Recognition/venv/lib/python3.10/site-packages (from altair<6.0,>=4.2.0->gradio) (4.19.1)\n",
      "Requirement already satisfied: toolz in /Users/saurabh/Documents/projects/Face-Recognition/venv/lib/python3.10/site-packages (from altair<6.0,>=4.2.0->gradio) (0.12.0)\n",
      "Requirement already satisfied: filelock in /Users/saurabh/Documents/projects/Face-Recognition/venv/lib/python3.10/site-packages (from huggingface-hub>=0.14.0->gradio) (3.12.4)\n",
      "Requirement already satisfied: tqdm>=4.42.1 in /Users/saurabh/Documents/projects/Face-Recognition/venv/lib/python3.10/site-packages (from huggingface-hub>=0.14.0->gradio) (4.66.1)\n",
      "Requirement already satisfied: contourpy>=1.0.1 in /Users/saurabh/Documents/projects/Face-Recognition/venv/lib/python3.10/site-packages (from matplotlib~=3.0->gradio) (1.1.1)\n",
      "Requirement already satisfied: cycler>=0.10 in /Users/saurabh/Documents/projects/Face-Recognition/venv/lib/python3.10/site-packages (from matplotlib~=3.0->gradio) (0.12.1)\n",
      "Requirement already satisfied: fonttools>=4.22.0 in /Users/saurabh/Documents/projects/Face-Recognition/venv/lib/python3.10/site-packages (from matplotlib~=3.0->gradio) (4.43.1)\n",
      "Requirement already satisfied: kiwisolver>=1.0.1 in /Users/saurabh/Documents/projects/Face-Recognition/venv/lib/python3.10/site-packages (from matplotlib~=3.0->gradio) (1.4.5)\n",
      "Requirement already satisfied: pyparsing>=2.3.1 in /Users/saurabh/Documents/projects/Face-Recognition/venv/lib/python3.10/site-packages (from matplotlib~=3.0->gradio) (3.1.1)\n",
      "Requirement already satisfied: python-dateutil>=2.7 in /Users/saurabh/Documents/projects/Face-Recognition/venv/lib/python3.10/site-packages (from matplotlib~=3.0->gradio) (2.8.2)\n",
      "Requirement already satisfied: pytz>=2020.1 in /Users/saurabh/Documents/projects/Face-Recognition/venv/lib/python3.10/site-packages (from pandas<3.0,>=1.0->gradio) (2023.3.post1)\n",
      "Requirement already satisfied: tzdata>=2022.1 in /Users/saurabh/Documents/projects/Face-Recognition/venv/lib/python3.10/site-packages (from pandas<3.0,>=1.0->gradio) (2023.3)\n",
      "Requirement already satisfied: annotated-types>=0.4.0 in /Users/saurabh/Documents/projects/Face-Recognition/venv/lib/python3.10/site-packages (from pydantic!=1.8,!=1.8.1,!=2.0.0,!=2.0.1,<3.0.0,>=1.7.4->gradio) (0.6.0)\n",
      "Requirement already satisfied: pydantic-core==2.10.1 in /Users/saurabh/Documents/projects/Face-Recognition/venv/lib/python3.10/site-packages (from pydantic!=1.8,!=1.8.1,!=2.0.0,!=2.0.1,<3.0.0,>=1.7.4->gradio) (2.10.1)\n",
      "Requirement already satisfied: charset-normalizer<4,>=2 in /Users/saurabh/Documents/projects/Face-Recognition/venv/lib/python3.10/site-packages (from requests~=2.0->gradio) (3.3.0)\n",
      "Requirement already satisfied: idna<4,>=2.5 in /Users/saurabh/Documents/projects/Face-Recognition/venv/lib/python3.10/site-packages (from requests~=2.0->gradio) (3.4)\n",
      "Requirement already satisfied: urllib3<3,>=1.21.1 in /Users/saurabh/Documents/projects/Face-Recognition/venv/lib/python3.10/site-packages (from requests~=2.0->gradio) (2.0.7)\n",
      "Requirement already satisfied: certifi>=2017.4.17 in /Users/saurabh/Documents/projects/Face-Recognition/venv/lib/python3.10/site-packages (from requests~=2.0->gradio) (2023.7.22)\n",
      "Requirement already satisfied: click>=7.0 in /Users/saurabh/Documents/projects/Face-Recognition/venv/lib/python3.10/site-packages (from uvicorn>=0.14.0->gradio) (8.1.7)\n",
      "Requirement already satisfied: h11>=0.8 in /Users/saurabh/Documents/projects/Face-Recognition/venv/lib/python3.10/site-packages (from uvicorn>=0.14.0->gradio) (0.14.0)\n",
      "Requirement already satisfied: anyio<4.0.0,>=3.7.1 in /Users/saurabh/Documents/projects/Face-Recognition/venv/lib/python3.10/site-packages (from fastapi->gradio) (3.7.1)\n",
      "Requirement already satisfied: starlette<0.28.0,>=0.27.0 in /Users/saurabh/Documents/projects/Face-Recognition/venv/lib/python3.10/site-packages (from fastapi->gradio) (0.27.0)\n",
      "Requirement already satisfied: httpcore<0.19.0,>=0.18.0 in /Users/saurabh/Documents/projects/Face-Recognition/venv/lib/python3.10/site-packages (from httpx->gradio) (0.18.0)\n",
      "Requirement already satisfied: sniffio in /Users/saurabh/Documents/projects/Face-Recognition/venv/lib/python3.10/site-packages (from httpx->gradio) (1.3.0)\n",
      "Requirement already satisfied: exceptiongroup in /Users/saurabh/Documents/projects/Face-Recognition/venv/lib/python3.10/site-packages (from anyio<4.0.0,>=3.7.1->fastapi->gradio) (1.1.3)\n",
      "Requirement already satisfied: attrs>=22.2.0 in /Users/saurabh/Documents/projects/Face-Recognition/venv/lib/python3.10/site-packages (from jsonschema>=3.0->altair<6.0,>=4.2.0->gradio) (23.1.0)\n",
      "Requirement already satisfied: jsonschema-specifications>=2023.03.6 in /Users/saurabh/Documents/projects/Face-Recognition/venv/lib/python3.10/site-packages (from jsonschema>=3.0->altair<6.0,>=4.2.0->gradio) (2023.7.1)\n",
      "Requirement already satisfied: referencing>=0.28.4 in /Users/saurabh/Documents/projects/Face-Recognition/venv/lib/python3.10/site-packages (from jsonschema>=3.0->altair<6.0,>=4.2.0->gradio) (0.30.2)\n",
      "Requirement already satisfied: rpds-py>=0.7.1 in /Users/saurabh/Documents/projects/Face-Recognition/venv/lib/python3.10/site-packages (from jsonschema>=3.0->altair<6.0,>=4.2.0->gradio) (0.10.6)\n",
      "Requirement already satisfied: six>=1.5 in /Users/saurabh/Documents/projects/Face-Recognition/venv/lib/python3.10/site-packages (from python-dateutil>=2.7->matplotlib~=3.0->gradio) (1.16.0)\n",
      "\n",
      "\u001b[1m[\u001b[0m\u001b[34;49mnotice\u001b[0m\u001b[1;39;49m]\u001b[0m\u001b[39;49m A new release of pip is available: \u001b[0m\u001b[31;49m23.2.1\u001b[0m\u001b[39;49m -> \u001b[0m\u001b[32;49m23.3\u001b[0m\n",
      "\u001b[1m[\u001b[0m\u001b[34;49mnotice\u001b[0m\u001b[1;39;49m]\u001b[0m\u001b[39;49m To update, run: \u001b[0m\u001b[32;49mpip install --upgrade pip\u001b[0m\n",
      "Requirement already satisfied: pandas in /Users/saurabh/Documents/projects/Face-Recognition/venv/lib/python3.10/site-packages (2.1.1)\n",
      "Requirement already satisfied: numpy>=1.22.4 in /Users/saurabh/Documents/projects/Face-Recognition/venv/lib/python3.10/site-packages (from pandas) (1.26.1)\n",
      "Requirement already satisfied: python-dateutil>=2.8.2 in /Users/saurabh/Documents/projects/Face-Recognition/venv/lib/python3.10/site-packages (from pandas) (2.8.2)\n",
      "Requirement already satisfied: pytz>=2020.1 in /Users/saurabh/Documents/projects/Face-Recognition/venv/lib/python3.10/site-packages (from pandas) (2023.3.post1)\n",
      "Requirement already satisfied: tzdata>=2022.1 in /Users/saurabh/Documents/projects/Face-Recognition/venv/lib/python3.10/site-packages (from pandas) (2023.3)\n",
      "Requirement already satisfied: six>=1.5 in /Users/saurabh/Documents/projects/Face-Recognition/venv/lib/python3.10/site-packages (from python-dateutil>=2.8.2->pandas) (1.16.0)\n",
      "\n",
      "\u001b[1m[\u001b[0m\u001b[34;49mnotice\u001b[0m\u001b[1;39;49m]\u001b[0m\u001b[39;49m A new release of pip is available: \u001b[0m\u001b[31;49m23.2.1\u001b[0m\u001b[39;49m -> \u001b[0m\u001b[32;49m23.3\u001b[0m\n",
      "\u001b[1m[\u001b[0m\u001b[34;49mnotice\u001b[0m\u001b[1;39;49m]\u001b[0m\u001b[39;49m To update, run: \u001b[0m\u001b[32;49mpip install --upgrade pip\u001b[0m\n",
      "Requirement already satisfied: deepface in /Users/saurabh/Documents/projects/Face-Recognition/venv/lib/python3.10/site-packages (0.0.79)\n",
      "Requirement already satisfied: numpy>=1.14.0 in /Users/saurabh/Documents/projects/Face-Recognition/venv/lib/python3.10/site-packages (from deepface) (1.26.1)\n",
      "Requirement already satisfied: pandas>=0.23.4 in /Users/saurabh/Documents/projects/Face-Recognition/venv/lib/python3.10/site-packages (from deepface) (2.1.1)\n",
      "Requirement already satisfied: tqdm>=4.30.0 in /Users/saurabh/Documents/projects/Face-Recognition/venv/lib/python3.10/site-packages (from deepface) (4.66.1)\n",
      "Requirement already satisfied: gdown>=3.10.1 in /Users/saurabh/Documents/projects/Face-Recognition/venv/lib/python3.10/site-packages (from deepface) (4.7.1)\n",
      "Requirement already satisfied: Pillow>=5.2.0 in /Users/saurabh/Documents/projects/Face-Recognition/venv/lib/python3.10/site-packages (from deepface) (10.1.0)\n",
      "Requirement already satisfied: opencv-python>=4.5.5.64 in /Users/saurabh/Documents/projects/Face-Recognition/venv/lib/python3.10/site-packages (from deepface) (4.8.1.78)\n",
      "Requirement already satisfied: tensorflow>=1.9.0 in /Users/saurabh/Documents/projects/Face-Recognition/venv/lib/python3.10/site-packages (from deepface) (2.14.0)\n",
      "Requirement already satisfied: keras>=2.2.0 in /Users/saurabh/Documents/projects/Face-Recognition/venv/lib/python3.10/site-packages (from deepface) (2.14.0)\n",
      "Requirement already satisfied: Flask>=1.1.2 in /Users/saurabh/Documents/projects/Face-Recognition/venv/lib/python3.10/site-packages (from deepface) (3.0.0)\n",
      "Requirement already satisfied: mtcnn>=0.1.0 in /Users/saurabh/Documents/projects/Face-Recognition/venv/lib/python3.10/site-packages (from deepface) (0.1.1)\n",
      "Requirement already satisfied: retina-face>=0.0.1 in /Users/saurabh/Documents/projects/Face-Recognition/venv/lib/python3.10/site-packages (from deepface) (0.0.13)\n",
      "Requirement already satisfied: fire>=0.4.0 in /Users/saurabh/Documents/projects/Face-Recognition/venv/lib/python3.10/site-packages (from deepface) (0.5.0)\n",
      "Requirement already satisfied: gunicorn>=20.1.0 in /Users/saurabh/Documents/projects/Face-Recognition/venv/lib/python3.10/site-packages (from deepface) (21.2.0)\n",
      "Requirement already satisfied: six in /Users/saurabh/Documents/projects/Face-Recognition/venv/lib/python3.10/site-packages (from fire>=0.4.0->deepface) (1.16.0)\n",
      "Requirement already satisfied: termcolor in /Users/saurabh/Documents/projects/Face-Recognition/venv/lib/python3.10/site-packages (from fire>=0.4.0->deepface) (2.3.0)\n",
      "Requirement already satisfied: Werkzeug>=3.0.0 in /Users/saurabh/Documents/projects/Face-Recognition/venv/lib/python3.10/site-packages (from Flask>=1.1.2->deepface) (3.0.0)\n",
      "Requirement already satisfied: Jinja2>=3.1.2 in /Users/saurabh/Documents/projects/Face-Recognition/venv/lib/python3.10/site-packages (from Flask>=1.1.2->deepface) (3.1.2)\n",
      "Requirement already satisfied: itsdangerous>=2.1.2 in /Users/saurabh/Documents/projects/Face-Recognition/venv/lib/python3.10/site-packages (from Flask>=1.1.2->deepface) (2.1.2)\n",
      "Requirement already satisfied: click>=8.1.3 in /Users/saurabh/Documents/projects/Face-Recognition/venv/lib/python3.10/site-packages (from Flask>=1.1.2->deepface) (8.1.7)\n",
      "Requirement already satisfied: blinker>=1.6.2 in /Users/saurabh/Documents/projects/Face-Recognition/venv/lib/python3.10/site-packages (from Flask>=1.1.2->deepface) (1.6.3)\n",
      "Requirement already satisfied: filelock in /Users/saurabh/Documents/projects/Face-Recognition/venv/lib/python3.10/site-packages (from gdown>=3.10.1->deepface) (3.12.4)\n",
      "Requirement already satisfied: requests[socks] in /Users/saurabh/Documents/projects/Face-Recognition/venv/lib/python3.10/site-packages (from gdown>=3.10.1->deepface) (2.31.0)\n",
      "Requirement already satisfied: beautifulsoup4 in /Users/saurabh/Documents/projects/Face-Recognition/venv/lib/python3.10/site-packages (from gdown>=3.10.1->deepface) (4.12.2)\n",
      "Requirement already satisfied: packaging in /Users/saurabh/Documents/projects/Face-Recognition/venv/lib/python3.10/site-packages (from gunicorn>=20.1.0->deepface) (23.2)\n",
      "Requirement already satisfied: python-dateutil>=2.8.2 in /Users/saurabh/Documents/projects/Face-Recognition/venv/lib/python3.10/site-packages (from pandas>=0.23.4->deepface) (2.8.2)\n",
      "Requirement already satisfied: pytz>=2020.1 in /Users/saurabh/Documents/projects/Face-Recognition/venv/lib/python3.10/site-packages (from pandas>=0.23.4->deepface) (2023.3.post1)\n",
      "Requirement already satisfied: tzdata>=2022.1 in /Users/saurabh/Documents/projects/Face-Recognition/venv/lib/python3.10/site-packages (from pandas>=0.23.4->deepface) (2023.3)\n",
      "Requirement already satisfied: tensorflow-macos==2.14.0 in /Users/saurabh/Documents/projects/Face-Recognition/venv/lib/python3.10/site-packages (from tensorflow>=1.9.0->deepface) (2.14.0)\n",
      "Requirement already satisfied: absl-py>=1.0.0 in /Users/saurabh/Documents/projects/Face-Recognition/venv/lib/python3.10/site-packages (from tensorflow-macos==2.14.0->tensorflow>=1.9.0->deepface) (2.0.0)\n",
      "Requirement already satisfied: astunparse>=1.6.0 in /Users/saurabh/Documents/projects/Face-Recognition/venv/lib/python3.10/site-packages (from tensorflow-macos==2.14.0->tensorflow>=1.9.0->deepface) (1.6.3)\n",
      "Requirement already satisfied: flatbuffers>=23.5.26 in /Users/saurabh/Documents/projects/Face-Recognition/venv/lib/python3.10/site-packages (from tensorflow-macos==2.14.0->tensorflow>=1.9.0->deepface) (23.5.26)\n",
      "Requirement already satisfied: gast!=0.5.0,!=0.5.1,!=0.5.2,>=0.2.1 in /Users/saurabh/Documents/projects/Face-Recognition/venv/lib/python3.10/site-packages (from tensorflow-macos==2.14.0->tensorflow>=1.9.0->deepface) (0.5.4)\n",
      "Requirement already satisfied: google-pasta>=0.1.1 in /Users/saurabh/Documents/projects/Face-Recognition/venv/lib/python3.10/site-packages (from tensorflow-macos==2.14.0->tensorflow>=1.9.0->deepface) (0.2.0)\n",
      "Requirement already satisfied: h5py>=2.9.0 in /Users/saurabh/Documents/projects/Face-Recognition/venv/lib/python3.10/site-packages (from tensorflow-macos==2.14.0->tensorflow>=1.9.0->deepface) (3.10.0)\n",
      "Requirement already satisfied: libclang>=13.0.0 in /Users/saurabh/Documents/projects/Face-Recognition/venv/lib/python3.10/site-packages (from tensorflow-macos==2.14.0->tensorflow>=1.9.0->deepface) (16.0.6)\n",
      "Requirement already satisfied: ml-dtypes==0.2.0 in /Users/saurabh/Documents/projects/Face-Recognition/venv/lib/python3.10/site-packages (from tensorflow-macos==2.14.0->tensorflow>=1.9.0->deepface) (0.2.0)\n",
      "Requirement already satisfied: opt-einsum>=2.3.2 in /Users/saurabh/Documents/projects/Face-Recognition/venv/lib/python3.10/site-packages (from tensorflow-macos==2.14.0->tensorflow>=1.9.0->deepface) (3.3.0)\n",
      "Requirement already satisfied: protobuf!=4.21.0,!=4.21.1,!=4.21.2,!=4.21.3,!=4.21.4,!=4.21.5,<5.0.0dev,>=3.20.3 in /Users/saurabh/Documents/projects/Face-Recognition/venv/lib/python3.10/site-packages (from tensorflow-macos==2.14.0->tensorflow>=1.9.0->deepface) (4.24.4)\n",
      "Requirement already satisfied: setuptools in /Users/saurabh/Documents/projects/Face-Recognition/venv/lib/python3.10/site-packages (from tensorflow-macos==2.14.0->tensorflow>=1.9.0->deepface) (68.2.2)\n",
      "Requirement already satisfied: typing-extensions>=3.6.6 in /Users/saurabh/Documents/projects/Face-Recognition/venv/lib/python3.10/site-packages (from tensorflow-macos==2.14.0->tensorflow>=1.9.0->deepface) (4.8.0)\n",
      "Requirement already satisfied: wrapt<1.15,>=1.11.0 in /Users/saurabh/Documents/projects/Face-Recognition/venv/lib/python3.10/site-packages (from tensorflow-macos==2.14.0->tensorflow>=1.9.0->deepface) (1.14.1)\n",
      "Requirement already satisfied: tensorflow-io-gcs-filesystem>=0.23.1 in /Users/saurabh/Documents/projects/Face-Recognition/venv/lib/python3.10/site-packages (from tensorflow-macos==2.14.0->tensorflow>=1.9.0->deepface) (0.34.0)\n",
      "Requirement already satisfied: grpcio<2.0,>=1.24.3 in /Users/saurabh/Documents/projects/Face-Recognition/venv/lib/python3.10/site-packages (from tensorflow-macos==2.14.0->tensorflow>=1.9.0->deepface) (1.59.0)\n",
      "Requirement already satisfied: tensorboard<2.15,>=2.14 in /Users/saurabh/Documents/projects/Face-Recognition/venv/lib/python3.10/site-packages (from tensorflow-macos==2.14.0->tensorflow>=1.9.0->deepface) (2.14.1)\n",
      "Requirement already satisfied: tensorflow-estimator<2.15,>=2.14.0 in /Users/saurabh/Documents/projects/Face-Recognition/venv/lib/python3.10/site-packages (from tensorflow-macos==2.14.0->tensorflow>=1.9.0->deepface) (2.14.0)\n",
      "Requirement already satisfied: MarkupSafe>=2.0 in /Users/saurabh/Documents/projects/Face-Recognition/venv/lib/python3.10/site-packages (from Jinja2>=3.1.2->Flask>=1.1.2->deepface) (2.1.3)\n",
      "Requirement already satisfied: soupsieve>1.2 in /Users/saurabh/Documents/projects/Face-Recognition/venv/lib/python3.10/site-packages (from beautifulsoup4->gdown>=3.10.1->deepface) (2.5)\n",
      "Requirement already satisfied: charset-normalizer<4,>=2 in /Users/saurabh/Documents/projects/Face-Recognition/venv/lib/python3.10/site-packages (from requests[socks]->gdown>=3.10.1->deepface) (3.3.0)\n",
      "Requirement already satisfied: idna<4,>=2.5 in /Users/saurabh/Documents/projects/Face-Recognition/venv/lib/python3.10/site-packages (from requests[socks]->gdown>=3.10.1->deepface) (3.4)\n",
      "Requirement already satisfied: urllib3<3,>=1.21.1 in /Users/saurabh/Documents/projects/Face-Recognition/venv/lib/python3.10/site-packages (from requests[socks]->gdown>=3.10.1->deepface) (2.0.7)\n",
      "Requirement already satisfied: certifi>=2017.4.17 in /Users/saurabh/Documents/projects/Face-Recognition/venv/lib/python3.10/site-packages (from requests[socks]->gdown>=3.10.1->deepface) (2023.7.22)\n",
      "Requirement already satisfied: PySocks!=1.5.7,>=1.5.6 in /Users/saurabh/Documents/projects/Face-Recognition/venv/lib/python3.10/site-packages (from requests[socks]->gdown>=3.10.1->deepface) (1.7.1)\n",
      "Requirement already satisfied: wheel<1.0,>=0.23.0 in /Users/saurabh/Documents/projects/Face-Recognition/venv/lib/python3.10/site-packages (from astunparse>=1.6.0->tensorflow-macos==2.14.0->tensorflow>=1.9.0->deepface) (0.41.2)\n",
      "Requirement already satisfied: google-auth<3,>=1.6.3 in /Users/saurabh/Documents/projects/Face-Recognition/venv/lib/python3.10/site-packages (from tensorboard<2.15,>=2.14->tensorflow-macos==2.14.0->tensorflow>=1.9.0->deepface) (2.23.3)\n",
      "Requirement already satisfied: google-auth-oauthlib<1.1,>=0.5 in /Users/saurabh/Documents/projects/Face-Recognition/venv/lib/python3.10/site-packages (from tensorboard<2.15,>=2.14->tensorflow-macos==2.14.0->tensorflow>=1.9.0->deepface) (1.0.0)\n",
      "Requirement already satisfied: markdown>=2.6.8 in /Users/saurabh/Documents/projects/Face-Recognition/venv/lib/python3.10/site-packages (from tensorboard<2.15,>=2.14->tensorflow-macos==2.14.0->tensorflow>=1.9.0->deepface) (3.5)\n",
      "Requirement already satisfied: tensorboard-data-server<0.8.0,>=0.7.0 in /Users/saurabh/Documents/projects/Face-Recognition/venv/lib/python3.10/site-packages (from tensorboard<2.15,>=2.14->tensorflow-macos==2.14.0->tensorflow>=1.9.0->deepface) (0.7.1)\n",
      "Requirement already satisfied: cachetools<6.0,>=2.0.0 in /Users/saurabh/Documents/projects/Face-Recognition/venv/lib/python3.10/site-packages (from google-auth<3,>=1.6.3->tensorboard<2.15,>=2.14->tensorflow-macos==2.14.0->tensorflow>=1.9.0->deepface) (5.3.1)\n",
      "Requirement already satisfied: pyasn1-modules>=0.2.1 in /Users/saurabh/Documents/projects/Face-Recognition/venv/lib/python3.10/site-packages (from google-auth<3,>=1.6.3->tensorboard<2.15,>=2.14->tensorflow-macos==2.14.0->tensorflow>=1.9.0->deepface) (0.3.0)\n",
      "Requirement already satisfied: rsa<5,>=3.1.4 in /Users/saurabh/Documents/projects/Face-Recognition/venv/lib/python3.10/site-packages (from google-auth<3,>=1.6.3->tensorboard<2.15,>=2.14->tensorflow-macos==2.14.0->tensorflow>=1.9.0->deepface) (4.9)\n",
      "Requirement already satisfied: requests-oauthlib>=0.7.0 in /Users/saurabh/Documents/projects/Face-Recognition/venv/lib/python3.10/site-packages (from google-auth-oauthlib<1.1,>=0.5->tensorboard<2.15,>=2.14->tensorflow-macos==2.14.0->tensorflow>=1.9.0->deepface) (1.3.1)\n",
      "Requirement already satisfied: pyasn1<0.6.0,>=0.4.6 in /Users/saurabh/Documents/projects/Face-Recognition/venv/lib/python3.10/site-packages (from pyasn1-modules>=0.2.1->google-auth<3,>=1.6.3->tensorboard<2.15,>=2.14->tensorflow-macos==2.14.0->tensorflow>=1.9.0->deepface) (0.5.0)\n",
      "Requirement already satisfied: oauthlib>=3.0.0 in /Users/saurabh/Documents/projects/Face-Recognition/venv/lib/python3.10/site-packages (from requests-oauthlib>=0.7.0->google-auth-oauthlib<1.1,>=0.5->tensorboard<2.15,>=2.14->tensorflow-macos==2.14.0->tensorflow>=1.9.0->deepface) (3.2.2)\n",
      "\n",
      "\u001b[1m[\u001b[0m\u001b[34;49mnotice\u001b[0m\u001b[1;39;49m]\u001b[0m\u001b[39;49m A new release of pip is available: \u001b[0m\u001b[31;49m23.2.1\u001b[0m\u001b[39;49m -> \u001b[0m\u001b[32;49m23.3\u001b[0m\n",
      "\u001b[1m[\u001b[0m\u001b[34;49mnotice\u001b[0m\u001b[1;39;49m]\u001b[0m\u001b[39;49m To update, run: \u001b[0m\u001b[32;49mpip install --upgrade pip\u001b[0m\n"
     ]
    }
   ],
   "source": [
    "# Import necessary libraries\n",
    "!pip install ultralytics\n",
    "!pip install gradio\n",
    "!pip install pandas\n",
    "!pip install deepface"
   ]
  },
  {
   "cell_type": "code",
   "execution_count": 2,
   "id": "67268226-bac1-464c-87e2-c5e1fda044e9",
   "metadata": {},
   "outputs": [],
   "source": [
    "# Import necessary libraries\n",
    "from ultralytics import YOLO\n",
    "from ultralytics.engine.results import Results  \n",
    "from deepface import DeepFace\n",
    "from PIL import Image\n",
    "import gradio as gr\n",
    "import shutil\n",
    "import pandas\n",
    "import cv2\n",
    "import os"
   ]
  },
  {
   "cell_type": "code",
   "execution_count": 3,
   "id": "e2c62a9d-8112-49b7-9b8d-43f9e10673c2",
   "metadata": {},
   "outputs": [],
   "source": [
    "def faceRecognition(input_image):\n",
    "\n",
    "    # Path to the directory containing cropped objects\n",
    "    cropped_objects_dir = \"./faces/\"\n",
    "\n",
    "    # Initialize a list to store the extracted names\n",
    "    extracted_names = []\n",
    "\n",
    "    file_to_delete = \"./database/representations_facenet512.pkl\"\n",
    "    if os.path.exists(file_to_delete):\n",
    "        os.remove(file_to_delete)    \n",
    "\n",
    "    # Iterate through the image files in the directory\n",
    "    for filename in os.listdir(cropped_objects_dir):\n",
    "        if filename.endswith(\".jpg\"):\n",
    "            img_path = os.path.join(cropped_objects_dir, filename)\n",
    "            model = DeepFace.find(img_path=img_path, db_path=\"database\", enforce_detection=False, model_name=\"Facenet512\")\n",
    "\n",
    "            # Check if a face was recognized in the image\n",
    "            if model and len(model[0]['identity']) > 0:\n",
    "                # Extract the name and append it to the list\n",
    "                name = model[0]['identity'][0].split('/')[1]\n",
    "            else:\n",
    "                # If no face is recognized, set name to 'unknown'\n",
    "                name = 'unknown'\n",
    "\n",
    "            extracted_names.append(name)\n",
    "        \n",
    "            # if os.path.exists(file_to_delete):\n",
    "            #     os.remove(file_to_delete)\n",
    "\n",
    "    return extracted_names"
   ]
  },
  {
   "cell_type": "code",
   "execution_count": 4,
   "id": "f61dff16-32e7-42fc-b312-4d5cb175628d",
   "metadata": {},
   "outputs": [],
   "source": [
    "def faceExtraction(input_image, model, results):\n",
    "    # Load the image\n",
    "    image = Image.open(input_image)\n",
    "    detected_objects = []\n",
    "\n",
    "    if hasattr(results, 'boxes') and hasattr(results, 'names'):\n",
    "        for box in results.boxes.xyxy:\n",
    "            object_id = int(box[-1])\n",
    "            object_name = results.names.get(object_id)\n",
    "            x1, y1, x2, y2 = int(box[0]), int(box[1]), int(box[2]), int(box[3])\n",
    "\n",
    "            detected_objects.append((object_name, (x1, y1, x2, y2)))\n",
    "\n",
    "    # Create or clear the 'faces' directory\n",
    "    if os.path.exists(\"faces\"):\n",
    "        shutil.rmtree(\"faces\")\n",
    "    os.makedirs(\"faces\")\n",
    "\n",
    "    # Crop and save each detected object\n",
    "    for i, (object_name, (x1, y1, x2, y2)) in enumerate(detected_objects):\n",
    "        object_image = image.crop((x1, y1, x2, y2))\n",
    "        object_image.save(f\"faces/face{i}.jpg\")\n",
    "        \n",
    "    return 0"
   ]
  },
  {
   "cell_type": "code",
   "execution_count": 5,
   "id": "05b301be-5c7c-46d8-b23e-0c7686cf9e17",
   "metadata": {},
   "outputs": [],
   "source": [
    "def faceDetection(input_image):\n",
    "    model = YOLO('best.pt')\n",
    "    results: Results = model.predict(input_image)[0]\n",
    "\n",
    "    return faceExtraction(input_image, model, results)"
   ]
  },
  {
   "cell_type": "code",
   "execution_count": 10,
   "id": "062e3b20-c871-4df7-a539-6248c405fc79",
   "metadata": {},
   "outputs": [
    {
     "name": "stdin",
     "output_type": "stream",
     "text": [
      "enter image path :  imagee.jpg\n"
     ]
    },
    {
     "name": "stderr",
     "output_type": "stream",
     "text": [
      "\n",
      "image 1/1 /Users/saurabh/Documents/projects/Face-Recognition/Main/main/imagee.jpg: 480x640 51 faces, 59.7ms\n",
      "Speed: 1.8ms preprocess, 59.7ms inference, 0.5ms postprocess per image at shape (1, 3, 480, 640)\n",
      "Finding representations: 100%|██████████████████| 26/26 [01:08<00:00,  2.62s/it]\n",
      "Corrupt JPEG data: 1 extraneous bytes before marker 0xd9\n",
      "Corrupt JPEG data: 1 extraneous bytes before marker 0xd9\n"
     ]
    },
    {
     "name": "stdout",
     "output_type": "stream",
     "text": [
      "Representations stored in database/representations_facenet512.pkl file.Please delete this file when you add new identities in your database.\n",
      "find function lasts  68.26371693611145  seconds\n",
      "WARNING: Representations for images in database folder were previously stored in representations_facenet512.pkl. If you added new instances after the creation, then please delete this file and call find function again. It will create it again.\n",
      "There are  34  representations found in  representations_facenet512.pkl\n",
      "find function lasts  0.069580078125  seconds\n",
      "WARNING: Representations for images in database folder were previously stored in representations_facenet512.pkl. If you added new instances after the creation, then please delete this file and call find function again. It will create it again.\n",
      "There are  34  representations found in  representations_facenet512.pkl\n",
      "find function lasts  0.06694769859313965  seconds\n",
      "WARNING: Representations for images in database folder were previously stored in representations_facenet512.pkl. If you added new instances after the creation, then please delete this file and call find function again. It will create it again.\n",
      "There are  34  representations found in  representations_facenet512.pkl\n",
      "find function lasts  0.08348917961120605  seconds\n",
      "WARNING: Representations for images in database folder were previously stored in representations_facenet512.pkl. If you added new instances after the creation, then please delete this file and call find function again. It will create it again.\n",
      "There are  34  representations found in  representations_facenet512.pkl\n",
      "find function lasts  0.07352089881896973  seconds\n",
      "WARNING: Representations for images in database folder were previously stored in representations_facenet512.pkl. If you added new instances after the creation, then please delete this file and call find function again. It will create it again.\n",
      "There are  34  representations found in  representations_facenet512.pkl\n"
     ]
    },
    {
     "name": "stderr",
     "output_type": "stream",
     "text": [
      "Corrupt JPEG data: premature end of data segment\n",
      "Corrupt JPEG data: premature end of data segment\n"
     ]
    },
    {
     "name": "stdout",
     "output_type": "stream",
     "text": [
      "find function lasts  0.07706594467163086  seconds\n",
      "WARNING: Representations for images in database folder were previously stored in representations_facenet512.pkl. If you added new instances after the creation, then please delete this file and call find function again. It will create it again.\n",
      "There are  34  representations found in  representations_facenet512.pkl\n",
      "find function lasts  0.07330822944641113  seconds\n",
      "WARNING: Representations for images in database folder were previously stored in representations_facenet512.pkl. If you added new instances after the creation, then please delete this file and call find function again. It will create it again.\n",
      "There are  34  representations found in  representations_facenet512.pkl\n",
      "find function lasts  0.07194375991821289  seconds\n",
      "WARNING: Representations for images in database folder were previously stored in representations_facenet512.pkl. If you added new instances after the creation, then please delete this file and call find function again. It will create it again.\n",
      "There are  34  representations found in  representations_facenet512.pkl\n"
     ]
    },
    {
     "name": "stderr",
     "output_type": "stream",
     "text": [
      "Corrupt JPEG data: premature end of data segment\n",
      "Corrupt JPEG data: premature end of data segment\n",
      "Corrupt JPEG data: 5 extraneous bytes before marker 0xd9\n"
     ]
    },
    {
     "name": "stdout",
     "output_type": "stream",
     "text": [
      "find function lasts  0.07206988334655762  seconds\n",
      "WARNING: Representations for images in database folder were previously stored in representations_facenet512.pkl. If you added new instances after the creation, then please delete this file and call find function again. It will create it again.\n",
      "There are  34  representations found in  representations_facenet512.pkl\n",
      "find function lasts  0.07144284248352051  seconds\n",
      "WARNING: Representations for images in database folder were previously stored in representations_facenet512.pkl. If you added new instances after the creation, then please delete this file and call find function again. It will create it again.\n",
      "There are  34  representations found in  representations_facenet512.pkl\n",
      "find function lasts  0.07564020156860352  seconds\n",
      "WARNING: Representations for images in database folder were previously stored in representations_facenet512.pkl. If you added new instances after the creation, then please delete this file and call find function again. It will create it again.\n",
      "There are  34  representations found in  representations_facenet512.pkl\n"
     ]
    },
    {
     "name": "stderr",
     "output_type": "stream",
     "text": [
      "Corrupt JPEG data: 5 extraneous bytes before marker 0xd9\n",
      "Corrupt JPEG data: premature end of data segment\n",
      "Corrupt JPEG data: premature end of data segment\n"
     ]
    },
    {
     "name": "stdout",
     "output_type": "stream",
     "text": [
      "find function lasts  0.07109904289245605  seconds\n",
      "WARNING: Representations for images in database folder were previously stored in representations_facenet512.pkl. If you added new instances after the creation, then please delete this file and call find function again. It will create it again.\n",
      "There are  34  representations found in  representations_facenet512.pkl\n",
      "find function lasts  0.07554507255554199  seconds\n",
      "WARNING: Representations for images in database folder were previously stored in representations_facenet512.pkl. If you added new instances after the creation, then please delete this file and call find function again. It will create it again.\n",
      "There are  34  representations found in  representations_facenet512.pkl\n",
      "find function lasts  0.0735628604888916  seconds\n",
      "WARNING: Representations for images in database folder were previously stored in representations_facenet512.pkl. If you added new instances after the creation, then please delete this file and call find function again. It will create it again.\n",
      "There are  34  representations found in  representations_facenet512.pkl\n"
     ]
    },
    {
     "name": "stderr",
     "output_type": "stream",
     "text": [
      "Corrupt JPEG data: 1 extraneous bytes before marker 0xd9\n",
      "Corrupt JPEG data: premature end of data segment\n",
      "Corrupt JPEG data: 1 extraneous bytes before marker 0xd9\n"
     ]
    },
    {
     "name": "stdout",
     "output_type": "stream",
     "text": [
      "find function lasts  0.07585287094116211  seconds\n",
      "WARNING: Representations for images in database folder were previously stored in representations_facenet512.pkl. If you added new instances after the creation, then please delete this file and call find function again. It will create it again.\n",
      "There are  34  representations found in  representations_facenet512.pkl\n",
      "find function lasts  0.07299494743347168  seconds\n",
      "WARNING: Representations for images in database folder were previously stored in representations_facenet512.pkl. If you added new instances after the creation, then please delete this file and call find function again. It will create it again.\n",
      "There are  34  representations found in  representations_facenet512.pkl\n",
      "find function lasts  0.070220947265625  seconds\n",
      "WARNING: Representations for images in database folder were previously stored in representations_facenet512.pkl. If you added new instances after the creation, then please delete this file and call find function again. It will create it again.\n",
      "There are  34  representations found in  representations_facenet512.pkl\n",
      "find function lasts  0.07240700721740723  seconds\n",
      "WARNING: Representations for images in database folder were previously stored in representations_facenet512.pkl. If you added new instances after the creation, then please delete this file and call find function again. It will create it again.\n",
      "There are  34  representations found in  representations_facenet512.pkl\n",
      "find function lasts  0.0724020004272461  seconds\n",
      "WARNING: Representations for images in database folder were previously stored in representations_facenet512.pkl. If you added new instances after the creation, then please delete this file and call find function again. It will create it again.\n",
      "There are  34  representations found in  representations_facenet512.pkl\n",
      "find function lasts  0.07049393653869629  seconds\n",
      "WARNING: Representations for images in database folder were previously stored in representations_facenet512.pkl. If you added new instances after the creation, then please delete this file and call find function again. It will create it again.\n",
      "There are  34  representations found in  representations_facenet512.pkl\n"
     ]
    },
    {
     "name": "stderr",
     "output_type": "stream",
     "text": [
      "Corrupt JPEG data: premature end of data segment\n",
      "Corrupt JPEG data: 2 extraneous bytes before marker 0xd9\n",
      "Corrupt JPEG data: premature end of data segment\n"
     ]
    },
    {
     "name": "stdout",
     "output_type": "stream",
     "text": [
      "find function lasts  0.0718851089477539  seconds\n",
      "WARNING: Representations for images in database folder were previously stored in representations_facenet512.pkl. If you added new instances after the creation, then please delete this file and call find function again. It will create it again.\n",
      "There are  34  representations found in  representations_facenet512.pkl\n",
      "find function lasts  0.0756978988647461  seconds\n",
      "WARNING: Representations for images in database folder were previously stored in representations_facenet512.pkl. If you added new instances after the creation, then please delete this file and call find function again. It will create it again.\n",
      "There are  34  representations found in  representations_facenet512.pkl\n",
      "find function lasts  0.07518792152404785  seconds\n",
      "WARNING: Representations for images in database folder were previously stored in representations_facenet512.pkl. If you added new instances after the creation, then please delete this file and call find function again. It will create it again.\n",
      "There are  34  representations found in  representations_facenet512.pkl\n"
     ]
    },
    {
     "name": "stderr",
     "output_type": "stream",
     "text": [
      "Corrupt JPEG data: 5 extraneous bytes before marker 0xd9\n",
      "Corrupt JPEG data: 4 extraneous bytes before marker 0xd9\n",
      "Corrupt JPEG data: premature end of data segment\n"
     ]
    },
    {
     "name": "stdout",
     "output_type": "stream",
     "text": [
      "find function lasts  0.07851386070251465  seconds\n",
      "WARNING: Representations for images in database folder were previously stored in representations_facenet512.pkl. If you added new instances after the creation, then please delete this file and call find function again. It will create it again.\n",
      "There are  34  representations found in  representations_facenet512.pkl\n",
      "find function lasts  0.07904791831970215  seconds\n",
      "WARNING: Representations for images in database folder were previously stored in representations_facenet512.pkl. If you added new instances after the creation, then please delete this file and call find function again. It will create it again.\n",
      "There are  34  representations found in  representations_facenet512.pkl\n",
      "find function lasts  0.07561206817626953  seconds\n",
      "WARNING: Representations for images in database folder were previously stored in representations_facenet512.pkl. If you added new instances after the creation, then please delete this file and call find function again. It will create it again.\n",
      "There are  34  representations found in  representations_facenet512.pkl\n"
     ]
    },
    {
     "name": "stderr",
     "output_type": "stream",
     "text": [
      "Corrupt JPEG data: premature end of data segment\n",
      "Corrupt JPEG data: premature end of data segment\n"
     ]
    },
    {
     "name": "stdout",
     "output_type": "stream",
     "text": [
      "find function lasts  0.07561087608337402  seconds\n",
      "WARNING: Representations for images in database folder were previously stored in representations_facenet512.pkl. If you added new instances after the creation, then please delete this file and call find function again. It will create it again.\n",
      "There are  34  representations found in  representations_facenet512.pkl\n",
      "find function lasts  0.07692432403564453  seconds\n",
      "WARNING: Representations for images in database folder were previously stored in representations_facenet512.pkl. If you added new instances after the creation, then please delete this file and call find function again. It will create it again.\n",
      "There are  34  representations found in  representations_facenet512.pkl\n",
      "find function lasts  0.07175111770629883  seconds\n",
      "WARNING: Representations for images in database folder were previously stored in representations_facenet512.pkl. If you added new instances after the creation, then please delete this file and call find function again. It will create it again.\n",
      "There are  34  representations found in  representations_facenet512.pkl\n"
     ]
    },
    {
     "name": "stderr",
     "output_type": "stream",
     "text": [
      "Corrupt JPEG data: 2 extraneous bytes before marker 0xd9\n",
      "Corrupt JPEG data: premature end of data segment\n",
      "Corrupt JPEG data: 1 extraneous bytes before marker 0xd9\n"
     ]
    },
    {
     "name": "stdout",
     "output_type": "stream",
     "text": [
      "find function lasts  0.07288885116577148  seconds\n",
      "WARNING: Representations for images in database folder were previously stored in representations_facenet512.pkl. If you added new instances after the creation, then please delete this file and call find function again. It will create it again.\n",
      "There are  34  representations found in  representations_facenet512.pkl\n",
      "find function lasts  0.08369684219360352  seconds\n",
      "WARNING: Representations for images in database folder were previously stored in representations_facenet512.pkl. If you added new instances after the creation, then please delete this file and call find function again. It will create it again.\n",
      "There are  34  representations found in  representations_facenet512.pkl\n",
      "find function lasts  0.07809829711914062  seconds\n",
      "WARNING: Representations for images in database folder were previously stored in representations_facenet512.pkl. If you added new instances after the creation, then please delete this file and call find function again. It will create it again.\n",
      "There are  34  representations found in  representations_facenet512.pkl\n"
     ]
    },
    {
     "name": "stderr",
     "output_type": "stream",
     "text": [
      "Corrupt JPEG data: 3 extraneous bytes before marker 0xd9\n",
      "Corrupt JPEG data: premature end of data segment\n",
      "Corrupt JPEG data: 5 extraneous bytes before marker 0xd9\n"
     ]
    },
    {
     "name": "stdout",
     "output_type": "stream",
     "text": [
      "find function lasts  0.07816600799560547  seconds\n",
      "WARNING: Representations for images in database folder were previously stored in representations_facenet512.pkl. If you added new instances after the creation, then please delete this file and call find function again. It will create it again.\n",
      "There are  34  representations found in  representations_facenet512.pkl\n",
      "find function lasts  0.0817251205444336  seconds\n",
      "WARNING: Representations for images in database folder were previously stored in representations_facenet512.pkl. If you added new instances after the creation, then please delete this file and call find function again. It will create it again.\n",
      "There are  34  representations found in  representations_facenet512.pkl\n",
      "find function lasts  0.07504606246948242  seconds\n",
      "WARNING: Representations for images in database folder were previously stored in representations_facenet512.pkl. If you added new instances after the creation, then please delete this file and call find function again. It will create it again.\n",
      "There are  34  representations found in  representations_facenet512.pkl\n"
     ]
    },
    {
     "name": "stderr",
     "output_type": "stream",
     "text": [
      "Corrupt JPEG data: 2 extraneous bytes before marker 0xd9\n",
      "Corrupt JPEG data: 4 extraneous bytes before marker 0xd9\n",
      "Corrupt JPEG data: premature end of data segment\n"
     ]
    },
    {
     "name": "stdout",
     "output_type": "stream",
     "text": [
      "find function lasts  0.07327103614807129  seconds\n",
      "WARNING: Representations for images in database folder were previously stored in representations_facenet512.pkl. If you added new instances after the creation, then please delete this file and call find function again. It will create it again.\n",
      "There are  34  representations found in  representations_facenet512.pkl\n",
      "find function lasts  0.07794904708862305  seconds\n",
      "WARNING: Representations for images in database folder were previously stored in representations_facenet512.pkl. If you added new instances after the creation, then please delete this file and call find function again. It will create it again.\n",
      "There are  34  representations found in  representations_facenet512.pkl\n",
      "find function lasts  0.07432889938354492  seconds\n",
      "WARNING: Representations for images in database folder were previously stored in representations_facenet512.pkl. If you added new instances after the creation, then please delete this file and call find function again. It will create it again.\n",
      "There are  34  representations found in  representations_facenet512.pkl\n"
     ]
    },
    {
     "name": "stderr",
     "output_type": "stream",
     "text": [
      "Corrupt JPEG data: 5 extraneous bytes before marker 0xd9\n",
      "Corrupt JPEG data: premature end of data segment\n"
     ]
    },
    {
     "name": "stdout",
     "output_type": "stream",
     "text": [
      "find function lasts  0.07647204399108887  seconds\n",
      "WARNING: Representations for images in database folder were previously stored in representations_facenet512.pkl. If you added new instances after the creation, then please delete this file and call find function again. It will create it again.\n",
      "There are  34  representations found in  representations_facenet512.pkl\n",
      "find function lasts  0.08151006698608398  seconds\n",
      "WARNING: Representations for images in database folder were previously stored in representations_facenet512.pkl. If you added new instances after the creation, then please delete this file and call find function again. It will create it again.\n",
      "There are  34  representations found in  representations_facenet512.pkl\n",
      "find function lasts  0.08965778350830078  seconds\n",
      "WARNING: Representations for images in database folder were previously stored in representations_facenet512.pkl. If you added new instances after the creation, then please delete this file and call find function again. It will create it again.\n",
      "There are  34  representations found in  representations_facenet512.pkl\n"
     ]
    },
    {
     "name": "stderr",
     "output_type": "stream",
     "text": [
      "Corrupt JPEG data: 4 extraneous bytes before marker 0xd9\n",
      "Corrupt JPEG data: premature end of data segment\n",
      "Corrupt JPEG data: 4 extraneous bytes before marker 0xd9\n"
     ]
    },
    {
     "name": "stdout",
     "output_type": "stream",
     "text": [
      "find function lasts  0.08143997192382812  seconds\n",
      "WARNING: Representations for images in database folder were previously stored in representations_facenet512.pkl. If you added new instances after the creation, then please delete this file and call find function again. It will create it again.\n",
      "There are  34  representations found in  representations_facenet512.pkl\n",
      "find function lasts  0.07902002334594727  seconds\n",
      "WARNING: Representations for images in database folder were previously stored in representations_facenet512.pkl. If you added new instances after the creation, then please delete this file and call find function again. It will create it again.\n",
      "There are  34  representations found in  representations_facenet512.pkl\n",
      "find function lasts  0.07383394241333008  seconds\n",
      "WARNING: Representations for images in database folder were previously stored in representations_facenet512.pkl. If you added new instances after the creation, then please delete this file and call find function again. It will create it again.\n",
      "There are  34  representations found in  representations_facenet512.pkl\n"
     ]
    },
    {
     "name": "stderr",
     "output_type": "stream",
     "text": [
      "Corrupt JPEG data: premature end of data segment\n",
      "Corrupt JPEG data: premature end of data segment\n"
     ]
    },
    {
     "name": "stdout",
     "output_type": "stream",
     "text": [
      "find function lasts  0.07732725143432617  seconds\n",
      "WARNING: Representations for images in database folder were previously stored in representations_facenet512.pkl. If you added new instances after the creation, then please delete this file and call find function again. It will create it again.\n",
      "There are  34  representations found in  representations_facenet512.pkl\n",
      "find function lasts  0.08415675163269043  seconds\n",
      "WARNING: Representations for images in database folder were previously stored in representations_facenet512.pkl. If you added new instances after the creation, then please delete this file and call find function again. It will create it again.\n",
      "There are  34  representations found in  representations_facenet512.pkl\n",
      "find function lasts  0.07464981079101562  seconds\n",
      "WARNING: Representations for images in database folder were previously stored in representations_facenet512.pkl. If you added new instances after the creation, then please delete this file and call find function again. It will create it again.\n",
      "There are  34  representations found in  representations_facenet512.pkl\n"
     ]
    },
    {
     "name": "stderr",
     "output_type": "stream",
     "text": [
      "Corrupt JPEG data: premature end of data segment\n",
      "Corrupt JPEG data: 2 extraneous bytes before marker 0xd9\n",
      "Corrupt JPEG data: 1 extraneous bytes before marker 0xd9\n"
     ]
    },
    {
     "name": "stdout",
     "output_type": "stream",
     "text": [
      "find function lasts  0.0770418643951416  seconds\n",
      "WARNING: Representations for images in database folder were previously stored in representations_facenet512.pkl. If you added new instances after the creation, then please delete this file and call find function again. It will create it again.\n",
      "There are  34  representations found in  representations_facenet512.pkl\n",
      "find function lasts  0.07754302024841309  seconds\n",
      "WARNING: Representations for images in database folder were previously stored in representations_facenet512.pkl. If you added new instances after the creation, then please delete this file and call find function again. It will create it again.\n",
      "There are  34  representations found in  representations_facenet512.pkl\n",
      "find function lasts  0.07930707931518555  seconds\n",
      "WARNING: Representations for images in database folder were previously stored in representations_facenet512.pkl. If you added new instances after the creation, then please delete this file and call find function again. It will create it again.\n",
      "There are  34  representations found in  representations_facenet512.pkl\n",
      "find function lasts  0.07362794876098633  seconds\n",
      "['unknown', 'unknown', 'unknown', 'unknown', 'unknown', 'unknown', 'unknown', 'unknown', 'unknown', 'unknown', 'unknown', 'unknown', 'unknown', 'unknown', 'unknown', 'unknown', 'unknown', 'unknown', 'unknown', 'unknown', 'unknown', 'unknown', 'sahil', 'unknown', 'unknown', 'unknown', 'unknown', 'unknown', 'unknown', 'unknown', 'unknown', 'unknown', 'unknown', 'unknown', 'unknown', 'unknown', 'unknown', 'unknown', 'unknown', 'unknown', 'unknown', 'unknown', 'unknown', 'unknown', 'unknown', 'unknown', 'unknown', 'unknown', 'unknown', 'unknown', 'unknown']\n"
     ]
    }
   ],
   "source": [
    "image = input(\"enter image path : \")\n",
    "faceDetection(image)\n",
    "names = faceRecognition(image)\n",
    "print(names)"
   ]
  },
  {
   "cell_type": "code",
   "execution_count": null,
   "id": "31f37ac1-cb18-417c-a328-263918856b2f",
   "metadata": {},
   "outputs": [],
   "source": []
  }
 ],
 "metadata": {
  "kernelspec": {
   "display_name": "Python 3 (ipykernel)",
   "language": "python",
   "name": "python3"
  },
  "language_info": {
   "codemirror_mode": {
    "name": "ipython",
    "version": 3
   },
   "file_extension": ".py",
   "mimetype": "text/x-python",
   "name": "python",
   "nbconvert_exporter": "python",
   "pygments_lexer": "ipython3",
   "version": "3.10.13"
  }
 },
 "nbformat": 4,
 "nbformat_minor": 5
}
